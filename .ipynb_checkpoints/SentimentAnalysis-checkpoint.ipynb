{
 "cells": [
  {
   "cell_type": "code",
   "execution_count": 10,
   "metadata": {},
   "outputs": [
    {
     "data": {
      "text/html": [
       "<div>\n",
       "<style scoped>\n",
       "    .dataframe tbody tr th:only-of-type {\n",
       "        vertical-align: middle;\n",
       "    }\n",
       "\n",
       "    .dataframe tbody tr th {\n",
       "        vertical-align: top;\n",
       "    }\n",
       "\n",
       "    .dataframe thead th {\n",
       "        text-align: right;\n",
       "    }\n",
       "</style>\n",
       "<table border=\"1\" class=\"dataframe\">\n",
       "  <thead>\n",
       "    <tr style=\"text-align: right;\">\n",
       "      <th></th>\n",
       "      <th>message_date</th>\n",
       "      <th>text</th>\n",
       "      <th>is_from_me</th>\n",
       "      <th>associated_message_guid</th>\n",
       "      <th>chat_identifier</th>\n",
       "      <th>handle_id</th>\n",
       "    </tr>\n",
       "  </thead>\n",
       "  <tbody>\n",
       "    <tr>\n",
       "      <th>27424</th>\n",
       "      <td>2020-12-06 16:21:28</td>\n",
       "      <td>Hello party people - what time tonight?</td>\n",
       "      <td>0</td>\n",
       "      <td>None</td>\n",
       "      <td>chat913401336872606513</td>\n",
       "      <td>+12039930703</td>\n",
       "    </tr>\n",
       "    <tr>\n",
       "      <th>27425</th>\n",
       "      <td>2020-12-06 16:45:35</td>\n",
       "      <td>Hi!!! Brent and I are good for 7👍🏻</td>\n",
       "      <td>0</td>\n",
       "      <td>None</td>\n",
       "      <td>chat913401336872606513</td>\n",
       "      <td>+12032585295</td>\n",
       "    </tr>\n",
       "    <tr>\n",
       "      <th>27426</th>\n",
       "      <td>2020-12-06 16:45:44</td>\n",
       "      <td>Liked “Hi!!! Brent and I are good for 7👍🏻”</td>\n",
       "      <td>1</td>\n",
       "      <td>p:0/2D7DD4AD-D054-437F-ADC0-F18D387CAE65</td>\n",
       "      <td>chat913401336872606513</td>\n",
       "      <td>None</td>\n",
       "    </tr>\n",
       "    <tr>\n",
       "      <th>27427</th>\n",
       "      <td>2020-12-06 16:56:37</td>\n",
       "      <td>Liked “Hi!!! Brent and I are good for 7👍🏻”</td>\n",
       "      <td>0</td>\n",
       "      <td>p:0/2D7DD4AD-D054-437F-ADC0-F18D387CAE65</td>\n",
       "      <td>chat913401336872606513</td>\n",
       "      <td>+12016154706</td>\n",
       "    </tr>\n",
       "    <tr>\n",
       "      <th>27428</th>\n",
       "      <td>2020-12-06 17:45:11</td>\n",
       "      <td>I can’t make it tonight :( I haven’t been feel...</td>\n",
       "      <td>0</td>\n",
       "      <td>None</td>\n",
       "      <td>chat913401336872606513</td>\n",
       "      <td>+19105993319</td>\n",
       "    </tr>\n",
       "  </tbody>\n",
       "</table>\n",
       "</div>"
      ],
      "text/plain": [
       "              message_date                                               text  \\\n",
       "27424  2020-12-06 16:21:28            Hello party people - what time tonight?   \n",
       "27425  2020-12-06 16:45:35                 Hi!!! Brent and I are good for 7👍🏻   \n",
       "27426  2020-12-06 16:45:44         Liked “Hi!!! Brent and I are good for 7👍🏻”   \n",
       "27427  2020-12-06 16:56:37         Liked “Hi!!! Brent and I are good for 7👍🏻”   \n",
       "27428  2020-12-06 17:45:11  I can’t make it tonight :( I haven’t been feel...   \n",
       "\n",
       "       is_from_me                   associated_message_guid  \\\n",
       "27424           0                                      None   \n",
       "27425           0                                      None   \n",
       "27426           1  p:0/2D7DD4AD-D054-437F-ADC0-F18D387CAE65   \n",
       "27427           0  p:0/2D7DD4AD-D054-437F-ADC0-F18D387CAE65   \n",
       "27428           0                                      None   \n",
       "\n",
       "              chat_identifier     handle_id  \n",
       "27424  chat913401336872606513  +12039930703  \n",
       "27425  chat913401336872606513  +12032585295  \n",
       "27426  chat913401336872606513          None  \n",
       "27427  chat913401336872606513  +12016154706  \n",
       "27428  chat913401336872606513  +19105993319  "
      ]
     },
     "execution_count": 10,
     "metadata": {},
     "output_type": "execute_result"
    }
   ],
   "source": [
    "import pandas as pd\n",
    "import sqlite3\n",
    "import os\n",
    "import glob\n",
    "import nltk\n",
    "\n",
    "path = \"/Users/brentpeiffer/Library/Messages/chat.db\"\n",
    "conn = sqlite3.connect(path)\n",
    "\n",
    "df = pd.read_sql_query('SELECT datetime (message.date / 1000000000 + strftime (\"%s\", \"2001-01-01\"), \"unixepoch\", \"localtime\") AS message_date, message.text, message.is_from_me, message.associated_message_guid, chat.chat_identifier, handle.id as handle_id FROM chat JOIN chat_message_join ON chat. \"ROWID\" = chat_message_join.chat_id JOIN message ON chat_message_join.message_id = message. \"ROWID\" LEFT JOIN handle on message.handle_id = handle. \"ROWID\" WHERE message.text not null ORDER BY message_date ASC', conn)\n",
    "df.tail()\n"
   ]
  },
  {
   "cell_type": "code",
   "execution_count": 11,
   "metadata": {},
   "outputs": [
    {
     "name": "stderr",
     "output_type": "stream",
     "text": [
      "[nltk_data] Downloading package vader_lexicon to\n",
      "[nltk_data]     /Users/brentpeiffer/nltk_data...\n",
      "[nltk_data]   Package vader_lexicon is already up-to-date!\n"
     ]
    },
    {
     "data": {
      "text/plain": [
       "[{'neg': 0.0, 'neu': 0.826, 'pos': 0.174, 'compound': 0.6369},\n",
       " {'neg': 0.0, 'neu': 1.0, 'pos': 0.0, 'compound': 0.0},\n",
       " {'neg': 0.0, 'neu': 1.0, 'pos': 0.0, 'compound': 0.0},\n",
       " {'neg': 0.0, 'neu': 1.0, 'pos': 0.0, 'compound': 0.0},\n",
       " {'neg': 0.0, 'neu': 0.686, 'pos': 0.314, 'compound': 0.8271}]"
      ]
     },
     "execution_count": 11,
     "metadata": {},
     "output_type": "execute_result"
    }
   ],
   "source": [
    "nltk.download('vader_lexicon')\n",
    "from nltk.sentiment.vader import SentimentIntensityAnalyzer\n",
    "vader = SentimentIntensityAnalyzer()\n",
    "scores = df['text'].apply(vader.polarity_scores).tolist()\n",
    "scores[:5]"
   ]
  },
  {
   "cell_type": "code",
   "execution_count": 53,
   "metadata": {},
   "outputs": [
    {
     "data": {
      "text/html": [
       "<div>\n",
       "<style scoped>\n",
       "    .dataframe tbody tr th:only-of-type {\n",
       "        vertical-align: middle;\n",
       "    }\n",
       "\n",
       "    .dataframe tbody tr th {\n",
       "        vertical-align: top;\n",
       "    }\n",
       "\n",
       "    .dataframe thead th {\n",
       "        text-align: right;\n",
       "    }\n",
       "</style>\n",
       "<table border=\"1\" class=\"dataframe\">\n",
       "  <thead>\n",
       "    <tr style=\"text-align: right;\">\n",
       "      <th></th>\n",
       "      <th></th>\n",
       "      <th></th>\n",
       "      <th>neg</th>\n",
       "      <th>neu</th>\n",
       "      <th>pos</th>\n",
       "      <th>compound</th>\n",
       "    </tr>\n",
       "    <tr>\n",
       "      <th>message_month_number</th>\n",
       "      <th>message_month</th>\n",
       "      <th>is_from_me</th>\n",
       "      <th></th>\n",
       "      <th></th>\n",
       "      <th></th>\n",
       "      <th></th>\n",
       "    </tr>\n",
       "  </thead>\n",
       "  <tbody>\n",
       "    <tr>\n",
       "      <th>10</th>\n",
       "      <th>October</th>\n",
       "      <th>1</th>\n",
       "      <td>0.044080</td>\n",
       "      <td>0.705254</td>\n",
       "      <td>0.242967</td>\n",
       "      <td>0.222108</td>\n",
       "    </tr>\n",
       "    <tr>\n",
       "      <th rowspan=\"2\" valign=\"top\">11</th>\n",
       "      <th rowspan=\"2\" valign=\"top\">November</th>\n",
       "      <th>0</th>\n",
       "      <td>0.048211</td>\n",
       "      <td>0.667013</td>\n",
       "      <td>0.271851</td>\n",
       "      <td>0.257084</td>\n",
       "    </tr>\n",
       "    <tr>\n",
       "      <th>1</th>\n",
       "      <td>0.041114</td>\n",
       "      <td>0.678802</td>\n",
       "      <td>0.205000</td>\n",
       "      <td>0.166090</td>\n",
       "    </tr>\n",
       "    <tr>\n",
       "      <th rowspan=\"2\" valign=\"top\">12</th>\n",
       "      <th rowspan=\"2\" valign=\"top\">December</th>\n",
       "      <th>0</th>\n",
       "      <td>0.035635</td>\n",
       "      <td>0.620633</td>\n",
       "      <td>0.248744</td>\n",
       "      <td>0.258194</td>\n",
       "    </tr>\n",
       "    <tr>\n",
       "      <th>1</th>\n",
       "      <td>0.028756</td>\n",
       "      <td>0.646075</td>\n",
       "      <td>0.222609</td>\n",
       "      <td>0.252954</td>\n",
       "    </tr>\n",
       "  </tbody>\n",
       "</table>\n",
       "</div>"
      ],
      "text/plain": [
       "                                                    neg       neu       pos  \\\n",
       "message_month_number message_month is_from_me                                 \n",
       "10                   October       1           0.044080  0.705254  0.242967   \n",
       "11                   November      0           0.048211  0.667013  0.271851   \n",
       "                                   1           0.041114  0.678802  0.205000   \n",
       "12                   December      0           0.035635  0.620633  0.248744   \n",
       "                                   1           0.028756  0.646075  0.222609   \n",
       "\n",
       "                                               compound  \n",
       "message_month_number message_month is_from_me            \n",
       "10                   October       1           0.222108  \n",
       "11                   November      0           0.257084  \n",
       "                                   1           0.166090  \n",
       "12                   December      0           0.258194  \n",
       "                                   1           0.252954  "
      ]
     },
     "execution_count": 53,
     "metadata": {},
     "output_type": "execute_result"
    }
   ],
   "source": [
    "scores_df = pd.DataFrame(scores)\n",
    "# join it with main dataframe\n",
    "df_join = df.join(scores_df, rsuffix='_right')\n",
    "\n",
    "# Convert the date column from string to datetime\n",
    "df_join['message_date'] = pd.to_datetime(df_join.message_date).dt.date\n",
    "\n",
    "# add month column\n",
    "df_join['message_month'] = pd.to_datetime(df_join.message_date).dt.month_name()\n",
    "df_join['message_month_number'] = pd.to_datetime(df_join.message_date).dt.month\n",
    "\n",
    "# filter by handle id\n",
    "df_join = df_join.loc[df_join['handle_id'] == '+12032585295']\n",
    "\n",
    "# Group by date and ticker columns from scored_news and calculate the mean\n",
    "mean_scores = df_join.groupby(['message_month_number','message_month', 'is_from_me']).mean()\n",
    "mean_scores.tail()"
   ]
  },
  {
   "cell_type": "code",
   "execution_count": 58,
   "metadata": {},
   "outputs": [
    {
     "data": {
      "text/plain": [
       "<seaborn.axisgrid.FacetGrid at 0x7fc9fbf52f90>"
      ]
     },
     "execution_count": 58,
     "metadata": {},
     "output_type": "execute_result"
    },
    {
     "data": {
      "image/png": "[encoded data removed]",
      "text/plain": [
       "<Figure size 431.425x360 with 1 Axes>"
      ]
     },
     "metadata": {},
     "output_type": "display_data"
    }
   ],
   "source": [
    "import seaborn as sns\n",
    "\n",
    "sns.relplot(x='message_month', y='compound', hue='is_from_me', data=mean_scores, kind='line'\n",
    "           , sort=True)\n",
    "# sns.catplot(x='message_month', y='compound', data=mean_scores, kind=\"box\", dodge=False)"
   ]
  },
  {
   "cell_type": "code",
   "execution_count": null,
   "metadata": {},
   "outputs": [],
   "source": []
  }
 ],
 "metadata": {
  "kernelspec": {
   "display_name": "Python 3",
   "language": "python",
   "name": "python3"
  },
  "language_info": {
   "codemirror_mode": {
    "name": "ipython",
    "version": 3
   },
   "file_extension": ".py",
   "mimetype": "text/x-python",
   "name": "python",
   "nbconvert_exporter": "python",
   "pygments_lexer": "ipython3",
   "version": "3.7.6"
  }
 },
 "nbformat": 4,
 "nbformat_minor": 4
}
