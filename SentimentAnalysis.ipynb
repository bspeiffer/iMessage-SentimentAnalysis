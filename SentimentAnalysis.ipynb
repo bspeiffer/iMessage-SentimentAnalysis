{
 "metadata": {
  "language_info": {
   "codemirror_mode": {
    "name": "ipython",
    "version": 3
   },
   "file_extension": ".py",
   "mimetype": "text/x-python",
   "name": "python",
   "nbconvert_exporter": "python",
   "pygments_lexer": "ipython3",
   "version": "3.7.6-final"
  },
  "orig_nbformat": 2,
  "kernelspec": {
   "name": "python3",
   "display_name": "Python 3"
  }
 },
 "nbformat": 4,
 "nbformat_minor": 2,
 "cells": [
  {
   "cell_type": "code",
   "execution_count": 10,
   "metadata": {},
   "outputs": [
    {
     "output_type": "execute_result",
     "data": {
      "text/plain": [
       "              message_date                                               text  \\\n",
       "27547  2020-12-05 17:24:51  No package yet. They usually deliver up until ...   \n",
       "27548  2020-12-05 18:03:58                      hiiiii buying anything nice??   \n",
       "27549  2020-12-05 18:45:30                     What does this reply look like   \n",
       "27550  2020-12-05 19:03:31                                          is_emote?   \n",
       "27551  2020-12-05 19:04:39                                           Whattttt   \n",
       "\n",
       "       is_from_me associated_message_guid        chat_identifier     handle_id  \n",
       "27547           0                    None  chat21811412373658541  +13154157338  \n",
       "27548           1                    None           +12032585295  +12032585295  \n",
       "27549           1                    None           +12032585295  +12032585295  \n",
       "27550           1                    None           +12032585295  +12032585295  \n",
       "27551           0                    None           +12032585295  +12032585295  "
      ],
      "text/html": "<div>\n<style scoped>\n    .dataframe tbody tr th:only-of-type {\n        vertical-align: middle;\n    }\n\n    .dataframe tbody tr th {\n        vertical-align: top;\n    }\n\n    .dataframe thead th {\n        text-align: right;\n    }\n</style>\n<table border=\"1\" class=\"dataframe\">\n  <thead>\n    <tr style=\"text-align: right;\">\n      <th></th>\n      <th>message_date</th>\n      <th>text</th>\n      <th>is_from_me</th>\n      <th>associated_message_guid</th>\n      <th>chat_identifier</th>\n      <th>handle_id</th>\n    </tr>\n  </thead>\n  <tbody>\n    <tr>\n      <th>27547</th>\n      <td>2020-12-05 17:24:51</td>\n      <td>No package yet. They usually deliver up until ...</td>\n      <td>0</td>\n      <td>None</td>\n      <td>chat21811412373658541</td>\n      <td>+13154157338</td>\n    </tr>\n    <tr>\n      <th>27548</th>\n      <td>2020-12-05 18:03:58</td>\n      <td>hiiiii buying anything nice??</td>\n      <td>1</td>\n      <td>None</td>\n      <td>+12032585295</td>\n      <td>+12032585295</td>\n    </tr>\n    <tr>\n      <th>27549</th>\n      <td>2020-12-05 18:45:30</td>\n      <td>What does this reply look like</td>\n      <td>1</td>\n      <td>None</td>\n      <td>+12032585295</td>\n      <td>+12032585295</td>\n    </tr>\n    <tr>\n      <th>27550</th>\n      <td>2020-12-05 19:03:31</td>\n      <td>is_emote?</td>\n      <td>1</td>\n      <td>None</td>\n      <td>+12032585295</td>\n      <td>+12032585295</td>\n    </tr>\n    <tr>\n      <th>27551</th>\n      <td>2020-12-05 19:04:39</td>\n      <td>Whattttt</td>\n      <td>0</td>\n      <td>None</td>\n      <td>+12032585295</td>\n      <td>+12032585295</td>\n    </tr>\n  </tbody>\n</table>\n</div>"
     },
     "metadata": {},
     "execution_count": 10
    }
   ],
   "source": [
    "import pandas as pd\n",
    "import sqlite3\n",
    "import os\n",
    "import glob\n",
    "import nltk\n",
    "\n",
    "path = \"/Users/brentpeiffer/Library/Messages/chat.db\"\n",
    "conn = sqlite3.connect(path)\n",
    "\n",
    "df = pd.read_sql_query('SELECT datetime (message.date / 1000000000 + strftime (\"%s\", \"2001-01-01\"), \"unixepoch\", \"localtime\") AS message_date, message.text, message.is_from_me, message.associated_message_guid, chat.chat_identifier, handle.id as handle_id FROM chat JOIN chat_message_join ON chat. \"ROWID\" = chat_message_join.chat_id JOIN message ON chat_message_join.message_id = message. \"ROWID\" LEFT JOIN handle on message.handle_id = handle. \"ROWID\" WHERE message.text not null ORDER BY message_date ASC', conn)\n",
    "df.tail()\n",
    "\n",
    "\n"
   ]
  },
  {
   "cell_type": "code",
   "execution_count": 13,
   "metadata": {},
   "outputs": [
    {
     "output_type": "stream",
     "name": "stderr",
     "text": [
      "[nltk_data] Downloading package vader_lexicon to\n[nltk_data]     /Users/brentpeiffer/nltk_data...\n[nltk_data]   Package vader_lexicon is already up-to-date!\n"
     ]
    },
    {
     "output_type": "execute_result",
     "data": {
      "text/plain": [
       "[{'neg': 0.0, 'neu': 0.265, 'pos': 0.735, 'compound': 0.8519},\n",
       " {'neg': 0.0, 'neu': 0.58, 'pos': 0.42, 'compound': 0.4404},\n",
       " {'neg': 0.0, 'neu': 1.0, 'pos': 0.0, 'compound': 0.0},\n",
       " {'neg': 0.0, 'neu': 0.323, 'pos': 0.677, 'compound': 0.6369},\n",
       " {'neg': 0.0, 'neu': 1.0, 'pos': 0.0, 'compound': 0.0}]"
      ]
     },
     "metadata": {},
     "execution_count": 13
    }
   ],
   "source": [
    "nltk.download('vader_lexicon')\n",
    "from nltk.sentiment.vader import SentimentIntensityAnalyzer\n",
    "vader = SentimentIntensityAnalyzer()\n",
    "scores = df['text'].apply(vader.polarity_scores).tolist()\n",
    "scores[:5]"
   ]
  },
  {
   "cell_type": "code",
   "execution_count": 16,
   "metadata": {},
   "outputs": [
    {
     "output_type": "execute_result",
     "data": {
      "text/plain": [
       "              is_from_me       neg       neu       pos  compound  neg_right  \\\n",
       "message_date                                                                  \n",
       "2020-12-01      0.331897  0.006728  0.433250  0.094509  0.094572   0.006728   \n",
       "2020-12-02      0.281250  0.046510  0.693021  0.224010  0.215807   0.046510   \n",
       "2020-12-03      0.404762  0.048643  0.618643  0.285048  0.307190   0.048643   \n",
       "2020-12-04      0.289474  0.050632  0.674816  0.248263  0.321179   0.050632   \n",
       "2020-12-05      0.259259  0.043667  0.710593  0.208667  0.137781   0.043667   \n",
       "\n",
       "              neu_right  pos_right  compound_right  neg_right  neu_right  \\\n",
       "message_date                                                               \n",
       "2020-12-01     0.433250   0.094509        0.094572   0.006728   0.433250   \n",
       "2020-12-02     0.693021   0.224010        0.215807   0.046510   0.693021   \n",
       "2020-12-03     0.618643   0.285048        0.307190   0.048643   0.618643   \n",
       "2020-12-04     0.674816   0.248263        0.321179   0.050632   0.674816   \n",
       "2020-12-05     0.710593   0.208667        0.137781   0.043667   0.710593   \n",
       "\n",
       "              pos_right  compound_right  \n",
       "message_date                             \n",
       "2020-12-01     0.094509        0.094572  \n",
       "2020-12-02     0.224010        0.215807  \n",
       "2020-12-03     0.285048        0.307190  \n",
       "2020-12-04     0.248263        0.321179  \n",
       "2020-12-05     0.208667        0.137781  "
      ],
      "text/html": "<div>\n<style scoped>\n    .dataframe tbody tr th:only-of-type {\n        vertical-align: middle;\n    }\n\n    .dataframe tbody tr th {\n        vertical-align: top;\n    }\n\n    .dataframe thead th {\n        text-align: right;\n    }\n</style>\n<table border=\"1\" class=\"dataframe\">\n  <thead>\n    <tr style=\"text-align: right;\">\n      <th></th>\n      <th>is_from_me</th>\n      <th>neg</th>\n      <th>neu</th>\n      <th>pos</th>\n      <th>compound</th>\n      <th>neg_right</th>\n      <th>neu_right</th>\n      <th>pos_right</th>\n      <th>compound_right</th>\n      <th>neg_right</th>\n      <th>neu_right</th>\n      <th>pos_right</th>\n      <th>compound_right</th>\n    </tr>\n    <tr>\n      <th>message_date</th>\n      <th></th>\n      <th></th>\n      <th></th>\n      <th></th>\n      <th></th>\n      <th></th>\n      <th></th>\n      <th></th>\n      <th></th>\n      <th></th>\n      <th></th>\n      <th></th>\n      <th></th>\n    </tr>\n  </thead>\n  <tbody>\n    <tr>\n      <th>2020-12-01</th>\n      <td>0.331897</td>\n      <td>0.006728</td>\n      <td>0.433250</td>\n      <td>0.094509</td>\n      <td>0.094572</td>\n      <td>0.006728</td>\n      <td>0.433250</td>\n      <td>0.094509</td>\n      <td>0.094572</td>\n      <td>0.006728</td>\n      <td>0.433250</td>\n      <td>0.094509</td>\n      <td>0.094572</td>\n    </tr>\n    <tr>\n      <th>2020-12-02</th>\n      <td>0.281250</td>\n      <td>0.046510</td>\n      <td>0.693021</td>\n      <td>0.224010</td>\n      <td>0.215807</td>\n      <td>0.046510</td>\n      <td>0.693021</td>\n      <td>0.224010</td>\n      <td>0.215807</td>\n      <td>0.046510</td>\n      <td>0.693021</td>\n      <td>0.224010</td>\n      <td>0.215807</td>\n    </tr>\n    <tr>\n      <th>2020-12-03</th>\n      <td>0.404762</td>\n      <td>0.048643</td>\n      <td>0.618643</td>\n      <td>0.285048</td>\n      <td>0.307190</td>\n      <td>0.048643</td>\n      <td>0.618643</td>\n      <td>0.285048</td>\n      <td>0.307190</td>\n      <td>0.048643</td>\n      <td>0.618643</td>\n      <td>0.285048</td>\n      <td>0.307190</td>\n    </tr>\n    <tr>\n      <th>2020-12-04</th>\n      <td>0.289474</td>\n      <td>0.050632</td>\n      <td>0.674816</td>\n      <td>0.248263</td>\n      <td>0.321179</td>\n      <td>0.050632</td>\n      <td>0.674816</td>\n      <td>0.248263</td>\n      <td>0.321179</td>\n      <td>0.050632</td>\n      <td>0.674816</td>\n      <td>0.248263</td>\n      <td>0.321179</td>\n    </tr>\n    <tr>\n      <th>2020-12-05</th>\n      <td>0.259259</td>\n      <td>0.043667</td>\n      <td>0.710593</td>\n      <td>0.208667</td>\n      <td>0.137781</td>\n      <td>0.043667</td>\n      <td>0.710593</td>\n      <td>0.208667</td>\n      <td>0.137781</td>\n      <td>0.043667</td>\n      <td>0.710593</td>\n      <td>0.208667</td>\n      <td>0.137781</td>\n    </tr>\n  </tbody>\n</table>\n</div>"
     },
     "metadata": {},
     "execution_count": 16
    }
   ],
   "source": [
    "scores_df = pd.DataFrame(scores)\n",
    "# join it with main dataframe\n",
    "df = df.join(scores_df, rsuffix='_right')\n",
    "\n",
    "# Convert the date column from string to datetime\n",
    "df['message_date'] = pd.to_datetime(df.message_date).dt.date\n",
    "# Group by date and ticker columns from scored_news and calculate the mean\n",
    "mean_scores = df.groupby(['message_date']).mean()\n",
    "mean_scores.tail()"
   ]
  },
  {
   "cell_type": "code",
   "execution_count": null,
   "metadata": {},
   "outputs": [],
   "source": []
  }
 ]
}